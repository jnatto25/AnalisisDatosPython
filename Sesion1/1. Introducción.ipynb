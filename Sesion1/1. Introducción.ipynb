{
 "cells": [
  {
   "cell_type": "code",
   "execution_count": null,
   "metadata": {},
   "outputs": [],
   "source": [
    "# indentacion\n",
    "\n",
    "if condicional :\n",
    "    print('hola Mundo') \n",
    "    ...\n"
   ]
  },
  {
   "cell_type": "code",
   "execution_count": 1,
   "metadata": {},
   "outputs": [
    {
     "data": {
      "text/plain": [
       "'Comentarios Docstring'"
      ]
     },
     "execution_count": 1,
     "metadata": {},
     "output_type": "execute_result"
    }
   ],
   "source": [
    "# comentarios\n",
    "'''Comentarios Docstring'''"
   ]
  },
  {
   "cell_type": "code",
   "execution_count": 2,
   "metadata": {},
   "outputs": [
    {
     "name": "stdout",
     "output_type": "stream",
     "text": [
      "5\n"
     ]
    }
   ],
   "source": [
    "# variables\n",
    "var1 = ''\n",
    "var2 = 5\n",
    "var3 = \"Datapath\"\n",
    "\n",
    "print(var2)"
   ]
  },
  {
   "cell_type": "code",
   "execution_count": 3,
   "metadata": {},
   "outputs": [
    {
     "name": "stdout",
     "output_type": "stream",
     "text": [
      "<class 'str'>\n",
      "<class 'int'>\n",
      "<class 'str'>\n"
     ]
    }
   ],
   "source": [
    "print(type(var1))\n",
    "print(type(var2))\n",
    "print(type(var1))"
   ]
  },
  {
   "cell_type": "code",
   "execution_count": 6,
   "metadata": {},
   "outputs": [
    {
     "name": "stdout",
     "output_type": "stream",
     "text": [
      "Datapath\n",
      "Python\n",
      "Git\n"
     ]
    }
   ],
   "source": [
    "a, b, c = 'Datapath', 'Python', 'Git'\n",
    "print(a)\n",
    "print(b)\n",
    "print(c)"
   ]
  },
  {
   "cell_type": "code",
   "execution_count": 7,
   "metadata": {},
   "outputs": [
    {
     "name": "stdout",
     "output_type": "stream",
     "text": [
      "qwerty\n",
      "we\n"
     ]
    }
   ],
   "source": [
    "# tipos de datos en python\n",
    "\n",
    "# String\n",
    "var_string ='qwerty'\n",
    "print(var_string)\n",
    "print(var_string [1:3])"
   ]
  },
  {
   "cell_type": "code",
   "execution_count": 8,
   "metadata": {},
   "outputs": [
    {
     "name": "stdout",
     "output_type": "stream",
     "text": [
      "<class 'complex'>\n"
     ]
    }
   ],
   "source": [
    "# numericas\n",
    "\n",
    "var_int = 10\n",
    "var_float = 4.5\n",
    "var_complex = 3.14j\n",
    "\n",
    "print(type(var_complex))"
   ]
  },
  {
   "cell_type": "code",
   "execution_count": 20,
   "metadata": {},
   "outputs": [],
   "source": [
    "# Listas en Python\n",
    "# list = [a, b, c, d]\n",
    "\n",
    "list_1 = []\n",
    "\n",
    "list_2 = [2, 3, 4, 5]\n",
    "\n",
    "list_3 = [3, \"qwert\", 44.4]\n",
    "\n",
    "list_4 = [\"Datapath\", 4, [3, 5, 7],['a', 4.5, 4.5j]]"
   ]
  },
  {
   "cell_type": "code",
   "execution_count": null,
   "metadata": {},
   "outputs": [],
   "source": [
    "# lista = [1, 2, 3, 4, 5]\n",
    "# lista [0]\n",
    "\n",
    "print(list_4)"
   ]
  },
  {
   "cell_type": "code",
   "execution_count": 12,
   "metadata": {},
   "outputs": [
    {
     "name": "stdout",
     "output_type": "stream",
     "text": [
      "[3, 4]\n"
     ]
    }
   ],
   "source": [
    "lista = [1, 2, 3, 4, 5]\n",
    "print(lista[2:4])"
   ]
  },
  {
   "cell_type": "code",
   "execution_count": 13,
   "metadata": {},
   "outputs": [],
   "source": [
    "lista[4] = 7"
   ]
  },
  {
   "cell_type": "code",
   "execution_count": 14,
   "metadata": {},
   "outputs": [
    {
     "name": "stdout",
     "output_type": "stream",
     "text": [
      "[1, 2, 3, 4, 7]\n"
     ]
    }
   ],
   "source": [
    "print(lista)"
   ]
  },
  {
   "cell_type": "code",
   "execution_count": 15,
   "metadata": {},
   "outputs": [
    {
     "name": "stdout",
     "output_type": "stream",
     "text": [
      "[6, 7, 8, 3, 5]\n"
     ]
    }
   ],
   "source": [
    "list_a = [6, 7, 8]\n",
    "\n",
    "list_a.append(3)\n",
    "list_a.append(5)\n",
    "\n",
    "print(list_a)"
   ]
  },
  {
   "cell_type": "code",
   "execution_count": 17,
   "metadata": {},
   "outputs": [
    {
     "name": "stdout",
     "output_type": "stream",
     "text": [
      "[6, 7, 8, 3, 5, 1, 2, 4]\n"
     ]
    }
   ],
   "source": [
    "list_a.extend([1, 2, 4])\n",
    "print(list_a)"
   ]
  },
  {
   "cell_type": "code",
   "execution_count": 18,
   "metadata": {},
   "outputs": [
    {
     "name": "stdout",
     "output_type": "stream",
     "text": [
      "[6, 7, 8, 3, 5, 1, 2, 4, [9, 10, 11]]\n"
     ]
    }
   ],
   "source": [
    "list_a.append([9, 10, 11])\n",
    "print(list_a)"
   ]
  },
  {
   "cell_type": "code",
   "execution_count": 19,
   "metadata": {},
   "outputs": [
    {
     "name": "stdout",
     "output_type": "stream",
     "text": [
      "6\n",
      "7\n",
      "8\n",
      "3\n",
      "5\n",
      "1\n",
      "2\n",
      "4\n",
      "[9, 10, 11]\n"
     ]
    }
   ],
   "source": [
    "for item in list_a:\n",
    "    print(item)"
   ]
  },
  {
   "cell_type": "code",
   "execution_count": null,
   "metadata": {},
   "outputs": [],
   "source": []
  },
  {
   "cell_type": "code",
   "execution_count": null,
   "metadata": {},
   "outputs": [],
   "source": []
  },
  {
   "cell_type": "code",
   "execution_count": 21,
   "metadata": {},
   "outputs": [
    {
     "name": "stdout",
     "output_type": "stream",
     "text": [
      "(1, 4.5, (1, 2, 3))\n"
     ]
    }
   ],
   "source": [
    "# Tuplas\n",
    "tupla = ()\n",
    "\n",
    "tupla_int = (1, 3, 5)\n",
    "\n",
    "tupla_mixta = (1, 4.j, \"Datapath\")\n",
    "\n",
    "tupla_anidada = (1, 4.5, (1, 2, 3))\n",
    "\n",
    "print(tupla_anidada)"
   ]
  },
  {
   "cell_type": "code",
   "execution_count": 24,
   "metadata": {},
   "outputs": [
    {
     "name": "stdout",
     "output_type": "stream",
     "text": [
      "<class 'tuple'>\n",
      "<class 'tuple'>\n"
     ]
    }
   ],
   "source": [
    "tupla_1 = (\"Datapath\",)\n",
    "print(type(tupla_1))\n",
    "\n",
    "tupla_2 = \"Datapath\",\n",
    "print(type(tupla_2))\n"
   ]
  },
  {
   "cell_type": "code",
   "execution_count": 25,
   "metadata": {},
   "outputs": [
    {
     "name": "stdout",
     "output_type": "stream",
     "text": [
      "4j\n",
      "a\n"
     ]
    }
   ],
   "source": [
    "print(tupla_mixta[1])\n",
    "print(tupla_mixta[2] [1])"
   ]
  },
  {
   "cell_type": "code",
   "execution_count": 26,
   "metadata": {},
   "outputs": [
    {
     "ename": "TypeError",
     "evalue": "'tuple' object does not support item assignment",
     "output_type": "error",
     "traceback": [
      "\u001b[0;31m---------------------------------------------------------------------------\u001b[0m",
      "\u001b[0;31mTypeError\u001b[0m                                 Traceback (most recent call last)",
      "Cell \u001b[0;32mIn[26], line 1\u001b[0m\n\u001b[0;32m----> 1\u001b[0m \u001b[43mtupla_mixta\u001b[49m\u001b[43m[\u001b[49m\u001b[38;5;241;43m1\u001b[39;49m\u001b[43m]\u001b[49m \u001b[38;5;241m=\u001b[39m \u001b[38;5;241m4\u001b[39m\n",
      "\u001b[0;31mTypeError\u001b[0m: 'tuple' object does not support item assignment"
     ]
    }
   ],
   "source": [
    "tupla_mixta[1] = 4"
   ]
  },
  {
   "cell_type": "code",
   "execution_count": 33,
   "metadata": {},
   "outputs": [
    {
     "name": "stdout",
     "output_type": "stream",
     "text": [
      "{'nombre': 'Juan', 'apellido': 'Perez'}\n"
     ]
    }
   ],
   "source": [
    "# Diccionarios\n",
    "# diccionario_1 = {}\n",
    "\n",
    "dict_1 = {}\n",
    "\n",
    "dict_2 = {\n",
    "\n",
    "    1: 'Datapath',\n",
    "    2: 'Python'\n",
    "}\n",
    "\n",
    "dict_3 = {\n",
    "\n",
    "    'nombre': 'Juan',\n",
    "    'apellido': 'Perez'\n",
    "}\n",
    "\n",
    "print(dict_3)\n"
   ]
  },
  {
   "cell_type": "code",
   "execution_count": 35,
   "metadata": {},
   "outputs": [
    {
     "name": "stdout",
     "output_type": "stream",
     "text": [
      "Juan\n",
      "Perez\n"
     ]
    }
   ],
   "source": [
    "print(dict_3[\"nombre\"])\n",
    "print(dict_3[\"apellido\"])"
   ]
  },
  {
   "cell_type": "code",
   "execution_count": 36,
   "metadata": {},
   "outputs": [
    {
     "name": "stdout",
     "output_type": "stream",
     "text": [
      "None\n"
     ]
    }
   ],
   "source": [
    "print(dict_3.get('edad'))"
   ]
  },
  {
   "cell_type": "code",
   "execution_count": 37,
   "metadata": {},
   "outputs": [
    {
     "name": "stdout",
     "output_type": "stream",
     "text": [
      "{'nombre': 'Juan', 'apellido': 'Perez', 'edad': 25}\n"
     ]
    }
   ],
   "source": [
    "dict_3['edad'] = 25\n",
    "print(dict_3)"
   ]
  },
  {
   "cell_type": "code",
   "execution_count": 38,
   "metadata": {},
   "outputs": [
    {
     "name": "stdout",
     "output_type": "stream",
     "text": [
      "{'nombre': 'Juan', 'apellido': 'Perez', 'edad': 30}\n"
     ]
    }
   ],
   "source": [
    "dict_3['edad'] = 30\n",
    "print(dict_3)"
   ]
  },
  {
   "cell_type": "code",
   "execution_count": 40,
   "metadata": {},
   "outputs": [
    {
     "name": "stdout",
     "output_type": "stream",
     "text": [
      "nombre Juan\n",
      "apellido Perez\n",
      "edad 30\n"
     ]
    }
   ],
   "source": [
    "for key in dict_3:\n",
    "    print(key, dict_3[key])"
   ]
  },
  {
   "cell_type": "code",
   "execution_count": 43,
   "metadata": {},
   "outputs": [
    {
     "name": "stdout",
     "output_type": "stream",
     "text": [
      " x es negativo\n"
     ]
    }
   ],
   "source": [
    "# control de flujo\n",
    "# Condiciones if - elif - else\n",
    "\n",
    "x = -5\n",
    "\n",
    "if x > 0 :\n",
    "    print(\" x es positivo\")\n",
    "elif x == 0 :\n",
    "     print(\" x es cero\")\n",
    "else:\n",
    "      print(\" x es negativo\")"
   ]
  },
  {
   "cell_type": "code",
   "execution_count": 45,
   "metadata": {},
   "outputs": [
    {
     "name": "stdout",
     "output_type": "stream",
     "text": [
      " x es negativo\n"
     ]
    }
   ],
   "source": [
    "if x >= 0 :\n",
    "    if x ==0:\n",
    "        print(\"x es cero\")\n",
    "    else:\n",
    "           print(\" x es positivo\")\n",
    "else:\n",
    "           print(\" x es negativo\")"
   ]
  },
  {
   "cell_type": "code",
   "execution_count": 48,
   "metadata": {},
   "outputs": [
    {
     "name": "stdout",
     "output_type": "stream",
     "text": [
      "1\n",
      "3\n",
      "5\n",
      "7\n",
      "8\n"
     ]
    }
   ],
   "source": [
    "# for\n",
    "\n",
    "for item in [1, 3, 5, 7, 8]:\n",
    "    print(item)"
   ]
  },
  {
   "cell_type": "code",
   "execution_count": 50,
   "metadata": {},
   "outputs": [
    {
     "name": "stdout",
     "output_type": "stream",
     "text": [
      "0\n",
      "1\n",
      "2\n",
      "3\n",
      "4\n"
     ]
    }
   ],
   "source": [
    "for item in range(5):\n",
    "        print(item)"
   ]
  },
  {
   "cell_type": "code",
   "execution_count": 51,
   "metadata": {},
   "outputs": [
    {
     "name": "stdout",
     "output_type": "stream",
     "text": [
      "Contador 0\n",
      "Contador 1\n",
      "Contador 2\n",
      "Contador 3\n",
      "Contador 4\n"
     ]
    }
   ],
   "source": [
    "c = 0\n",
    "\n",
    "while c < 5 :\n",
    "    print(\"Contador\", c)\n",
    "    c = c + 1"
   ]
  },
  {
   "cell_type": "code",
   "execution_count": 52,
   "metadata": {},
   "outputs": [
    {
     "name": "stdout",
     "output_type": "stream",
     "text": [
      "0\n",
      "1\n",
      "2\n",
      "3\n",
      "4\n"
     ]
    }
   ],
   "source": [
    "# break\n",
    "\n",
    "for i in range(10):\n",
    "    if i == 5:\n",
    "        break\n",
    "    print(i)"
   ]
  },
  {
   "cell_type": "code",
   "execution_count": 53,
   "metadata": {},
   "outputs": [
    {
     "name": "stdout",
     "output_type": "stream",
     "text": [
      "0\n",
      "1\n",
      "2\n",
      "3\n",
      "4\n",
      "6\n",
      "7\n",
      "8\n",
      "9\n"
     ]
    }
   ],
   "source": [
    "\n",
    "for i in range(10):\n",
    "    if i == 5:\n",
    "        continue\n",
    "    print(i)"
   ]
  },
  {
   "cell_type": "code",
   "execution_count": 54,
   "metadata": {},
   "outputs": [],
   "source": [
    "# pass\n",
    "\n",
    "def clean_data():\n",
    "    pass\n",
    "if True:\n",
    "    pass"
   ]
  },
  {
   "cell_type": "code",
   "execution_count": 57,
   "metadata": {},
   "outputs": [
    {
     "name": "stdout",
     "output_type": "stream",
     "text": [
      "Hola\n"
     ]
    }
   ],
   "source": [
    "# funciones\n",
    "\n",
    "def function():\n",
    "    return \"Hola\"\n",
    "\n",
    "var_1 = function()\n",
    "print(var_1)\n",
    "\n",
    "\n",
    " "
   ]
  },
  {
   "cell_type": "code",
   "execution_count": 59,
   "metadata": {},
   "outputs": [
    {
     "name": "stdout",
     "output_type": "stream",
     "text": [
      "8\n"
     ]
    }
   ],
   "source": [
    "def function(x):\n",
    "    return 2*x\n",
    "print(function(4))"
   ]
  },
  {
   "cell_type": "code",
   "execution_count": 63,
   "metadata": {},
   "outputs": [],
   "source": [
    "def read_table(table_name):\n",
    "    query = f\"SELECT * FROM {tabla_name}\"\n",
    "    return execute_query(query)"
   ]
  },
  {
   "cell_type": "code",
   "execution_count": 64,
   "metadata": {},
   "outputs": [
    {
     "name": "stdout",
     "output_type": "stream",
     "text": [
      "7\n"
     ]
    }
   ],
   "source": [
    "suma = lambda a,b: a+b\n",
    "print(suma(2,5))"
   ]
  },
  {
   "cell_type": "code",
   "execution_count": null,
   "metadata": {},
   "outputs": [],
   "source": [
    "# Eliminar duplicados en una lista\n",
    "\n",
    "def eliminar_duplicados(lista):\n",
    "\n",
    "    try:\n",
    "        return list(set(lista))\n",
    "    except Exception as e:\n",
    "        return e\n",
    "\n",
    "lista = [1, 2, 2, 3, 3, 5, 6, 6, 7, 8]\n",
    "eliminar_duplicados(6)\n",
    "\n",
    "\n",
    "# Busca un elemento de una lista\n",
    "\n",
    "def search_element (lista, item):\n",
    "    for i in range(0, len (lista)):\n",
    "        if item == lista[i]:\n",
    "            return i\n",
    "        return 'element not found'\n",
    "\n",
    "\n",
    "# Otra forma\n",
    "def busqueda(lista, elemento):\n",
    "    for pos, val in enumerate(lista):\n",
    "        if val == elemento:\n",
    "            return pos\n",
    "        return False\n",
    "\n",
    "print (busqueda([1, 2, 3], 3))\n",
    "\n",
    "# Crear una funcion que Calcule el factorial de un numero\n",
    "\n",
    "\n",
    "# sumar numero pares desde el 1 hasta el 100"
   ]
  },
  {
   "cell_type": "code",
   "execution_count": 67,
   "metadata": {},
   "outputs": [
    {
     "name": "stdout",
     "output_type": "stream",
     "text": [
      "Los números pares del 1 al 100 suman: 2550\n"
     ]
    }
   ],
   "source": [
    "# sumar numero pares desde el 1 hasta el 100\n",
    "def suma_pares():\n",
    "    suma = sum(num for num in range(2, 101, 2))\n",
    "    return suma\n",
    "\n",
    "resultado = suma_pares()\n",
    "print(f\"Los números pares del 1 al 100 suman: {resultado}\")"
   ]
  },
  {
   "cell_type": "code",
   "execution_count": 72,
   "metadata": {},
   "outputs": [
    {
     "name": "stdout",
     "output_type": "stream",
     "text": [
      "El factorial de 4 es: 24\n"
     ]
    }
   ],
   "source": [
    "# Crear una funcion que Calcule el factorial de un numero\n",
    "def factorial(x):\n",
    "    if x == 0 or x == 1:\n",
    "        return 1\n",
    "    else:\n",
    "        return x * factorial(x-1)\n",
    "\n",
    "# Ejemplo de uso\n",
    "numero = 4\n",
    "print(f\"El factorial de {numero} es: {factorial(numero)}\")"
   ]
  },
  {
   "cell_type": "code",
   "execution_count": 73,
   "metadata": {},
   "outputs": [
    {
     "name": "stdout",
     "output_type": "stream",
     "text": [
      "Lista original: [1, 2, 2, 3, 4, 4, 5, 7, 8, 8, 20, 25, 25]\n",
      "Lista sin duplicados: [1, 2, 3, 4, 5, 7, 8, 20, 25]\n"
     ]
    }
   ],
   "source": [
    "# Eliminar duplicados en una lista\n",
    "def eliminar_duplicados(lista):\n",
    "    return list(set(lista))\n",
    "\n",
    "# Ejemplo de uso\n",
    "lista_con_duplicados = [1, 2, 2, 3, 4, 4, 5, 7, 8, 8, 20, 25, 25]\n",
    "lista_sin_duplicados = eliminar_duplicados(lista_con_duplicados)\n",
    "print(f\"Lista original: {lista_con_duplicados}\")\n",
    "print(f\"Lista sin duplicados: {lista_sin_duplicados}\")"
   ]
  }
 ],
 "metadata": {
  "kernelspec": {
   "display_name": "Python 3",
   "language": "python",
   "name": "python3"
  },
  "language_info": {
   "codemirror_mode": {
    "name": "ipython",
    "version": 3
   },
   "file_extension": ".py",
   "mimetype": "text/x-python",
   "name": "python",
   "nbconvert_exporter": "python",
   "pygments_lexer": "ipython3",
   "version": "3.12.1"
  }
 },
 "nbformat": 4,
 "nbformat_minor": 2
}
